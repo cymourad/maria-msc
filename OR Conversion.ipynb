{
 "cells": [
  {
   "cell_type": "code",
   "execution_count": 44,
   "metadata": {
    "vscode": {
     "languageId": "r"
    }
   },
   "outputs": [],
   "source": [
    "# Function to convert measures to OR\n",
    "convert_to_or <- function(row){\n",
    "\n",
    "  measure_name <- row[['Measure_Name']]\n",
    "  measure <- as.numeric(row[['Measure_Value']])\n",
    "  n1 <- as.numeric(row[['N1_Cancer']])\n",
    "  n2 <- as.numeric(row[['N2_No_Cancer']])\n",
    "\n",
    "  if (measure_name == \"OR\"){\n",
    "    OR <- measure\n",
    "  } else if (measure_name == \"Crude OR\") {\n",
    "    OR <- measure\n",
    "  } else if (measure_name == \"RD\"){\n",
    "    OR <- exp(measure)\n",
    "  } else if (measure_name == \"SIR\"){\n",
    "    OR <- (measure - 1) / measure\n",
    "  } else if (measure_name == \"RR\"){\n",
    "    OR <- measure\n",
    "  } else if (measure_name == \"HR\"){\n",
    "    OR <- measure\n",
    "  } else if (measure_name == \"Crude IRR\"){\n",
    "    OR <- measure / (1 - measure)\n",
    "  } else if (measure_name == \"IR\"){\n",
    "    OR <- (n1 / n2) / (1 - (n1 / n2))\n",
    "  }\n",
    "  # print(OR)\n",
    "  return(OR)\n",
    "}"
   ]
  },
  {
   "cell_type": "code",
   "execution_count": 45,
   "metadata": {
    "vscode": {
     "languageId": "r"
    }
   },
   "outputs": [
    {
     "data": {
      "text/html": [
       "<table class=\"dataframe\">\n",
       "<caption>A data.frame: 6 × 8</caption>\n",
       "<thead>\n",
       "\t<tr><th></th><th scope=col>Article_ID</th><th scope=col>Total_Cohort</th><th scope=col>Measure_Name</th><th scope=col>Measure_Value</th><th scope=col>X95_CI_lower</th><th scope=col>X95_CI_upper</th><th scope=col>N1_Cancer</th><th scope=col>N2_No_Cancer</th></tr>\n",
       "\t<tr><th></th><th scope=col>&lt;chr&gt;</th><th scope=col>&lt;dbl&gt;</th><th scope=col>&lt;chr&gt;</th><th scope=col>&lt;dbl&gt;</th><th scope=col>&lt;dbl&gt;</th><th scope=col>&lt;dbl&gt;</th><th scope=col>&lt;dbl&gt;</th><th scope=col>&lt;dbl&gt;</th></tr>\n",
       "</thead>\n",
       "<tbody>\n",
       "\t<tr><th scope=row>1</th><td>Di Luccia, 2010      </td><td>  1216</td><td>OR </td><td>3.04</td><td>1.22</td><td> 7.57</td><td>0</td><td>0</td></tr>\n",
       "\t<tr><th scope=row>2</th><td>Brewster, 2010       </td><td> 77518</td><td>SIR</td><td>1.40</td><td>0.17</td><td> 5.04</td><td>0</td><td>0</td></tr>\n",
       "\t<tr><th scope=row>3</th><td>Brewster, 2010       </td><td> 77518</td><td>SIR</td><td>0.00</td><td>0.00</td><td> 3.11</td><td>0</td><td>0</td></tr>\n",
       "\t<tr><th scope=row>4</th><td>Cnattingius, 1995    </td><td>    89</td><td>OR </td><td>7.50</td><td>1.80</td><td>31.90</td><td>0</td><td>0</td></tr>\n",
       "\t<tr><th scope=row>5</th><td>Bugaiaki-Shaked, 2022</td><td>342172</td><td>HR </td><td>1.33</td><td>0.95</td><td> 1.84</td><td>0</td><td>0</td></tr>\n",
       "\t<tr><th scope=row>6</th><td>Bugaiaki-Shaked, 2022</td><td>342172</td><td>HR </td><td>1.09</td><td>0.92</td><td> 1.30</td><td>0</td><td>0</td></tr>\n",
       "</tbody>\n",
       "</table>\n"
      ],
      "text/latex": [
       "A data.frame: 6 × 8\n",
       "\\begin{tabular}{r|llllllll}\n",
       "  & Article\\_ID & Total\\_Cohort & Measure\\_Name & Measure\\_Value & X95\\_CI\\_lower & X95\\_CI\\_upper & N1\\_Cancer & N2\\_No\\_Cancer\\\\\n",
       "  & <chr> & <dbl> & <chr> & <dbl> & <dbl> & <dbl> & <dbl> & <dbl>\\\\\n",
       "\\hline\n",
       "\t1 & Di Luccia, 2010       &   1216 & OR  & 3.04 & 1.22 &  7.57 & 0 & 0\\\\\n",
       "\t2 & Brewster, 2010        &  77518 & SIR & 1.40 & 0.17 &  5.04 & 0 & 0\\\\\n",
       "\t3 & Brewster, 2010        &  77518 & SIR & 0.00 & 0.00 &  3.11 & 0 & 0\\\\\n",
       "\t4 & Cnattingius, 1995     &     89 & OR  & 7.50 & 1.80 & 31.90 & 0 & 0\\\\\n",
       "\t5 & Bugaiaki-Shaked, 2022 & 342172 & HR  & 1.33 & 0.95 &  1.84 & 0 & 0\\\\\n",
       "\t6 & Bugaiaki-Shaked, 2022 & 342172 & HR  & 1.09 & 0.92 &  1.30 & 0 & 0\\\\\n",
       "\\end{tabular}\n"
      ],
      "text/markdown": [
       "\n",
       "A data.frame: 6 × 8\n",
       "\n",
       "| <!--/--> | Article_ID &lt;chr&gt; | Total_Cohort &lt;dbl&gt; | Measure_Name &lt;chr&gt; | Measure_Value &lt;dbl&gt; | X95_CI_lower &lt;dbl&gt; | X95_CI_upper &lt;dbl&gt; | N1_Cancer &lt;dbl&gt; | N2_No_Cancer &lt;dbl&gt; |\n",
       "|---|---|---|---|---|---|---|---|---|\n",
       "| 1 | Di Luccia, 2010       |   1216 | OR  | 3.04 | 1.22 |  7.57 | 0 | 0 |\n",
       "| 2 | Brewster, 2010        |  77518 | SIR | 1.40 | 0.17 |  5.04 | 0 | 0 |\n",
       "| 3 | Brewster, 2010        |  77518 | SIR | 0.00 | 0.00 |  3.11 | 0 | 0 |\n",
       "| 4 | Cnattingius, 1995     |     89 | OR  | 7.50 | 1.80 | 31.90 | 0 | 0 |\n",
       "| 5 | Bugaiaki-Shaked, 2022 | 342172 | HR  | 1.33 | 0.95 |  1.84 | 0 | 0 |\n",
       "| 6 | Bugaiaki-Shaked, 2022 | 342172 | HR  | 1.09 | 0.92 |  1.30 | 0 | 0 |\n",
       "\n"
      ],
      "text/plain": [
       "  Article_ID            Total_Cohort Measure_Name Measure_Value X95_CI_lower\n",
       "1 Di Luccia, 2010         1216       OR           3.04          1.22        \n",
       "2 Brewster, 2010         77518       SIR          1.40          0.17        \n",
       "3 Brewster, 2010         77518       SIR          0.00          0.00        \n",
       "4 Cnattingius, 1995         89       OR           7.50          1.80        \n",
       "5 Bugaiaki-Shaked, 2022 342172       HR           1.33          0.95        \n",
       "6 Bugaiaki-Shaked, 2022 342172       HR           1.09          0.92        \n",
       "  X95_CI_upper N1_Cancer N2_No_Cancer\n",
       "1  7.57        0         0           \n",
       "2  5.04        0         0           \n",
       "3  3.11        0         0           \n",
       "4 31.90        0         0           \n",
       "5  1.84        0         0           \n",
       "6  1.30        0         0           "
      ]
     },
     "metadata": {},
     "output_type": "display_data"
    }
   ],
   "source": [
    "# read data in\n",
    "data <- read.csv(\"test-data.csv\")\n",
    "# remove commas from Total_Cohort and parse as numeric\n",
    "data$Total_Cohort <- as.numeric(gsub(\",\", \"\",data$Total_Cohort))\n",
    "# parse N1_Cancer as numeric or fill with 0\n",
    "data$N1_Cancer <- as.numeric(data$N1_Cancer)\n",
    "data$N1_Cancer[is.na(data$N1_Cancer)] <- 0\n",
    "\n",
    "# parse N2_No_Cancer as numeric or fill with 0\n",
    "data$N2_No_Cancer <- as.numeric(data$N2_No_Cancer)\n",
    "data$N2_No_Cancer[is.na(data$N2_No_Cancer)] <- 0\n",
    "\n",
    "\n",
    "\n",
    "# show the first few rows\n",
    "head(data)\n"
   ]
  },
  {
   "cell_type": "code",
   "execution_count": 46,
   "metadata": {
    "vscode": {
     "languageId": "r"
    }
   },
   "outputs": [
    {
     "name": "stdout",
     "output_type": "stream",
     "text": [
      "[1] 3.04\n",
      "[1] 0.2857143\n",
      "[1] -Inf\n",
      "[1] 7.5\n",
      "[1] 1.33\n",
      "[1] 1.09\n",
      "[1] 1.02\n",
      "[1] 1.51\n",
      "[1] 1.53\n",
      "[1] 1.35\n",
      "[1] 0.05934343\n",
      "[1] 0.06586826\n",
      "[1] 0.07\n",
      "[1] 0.05810398\n",
      "[1] 0.04761905\n",
      "[1] 0.04926108\n",
      "[1] 0\n",
      "[1] 0.4117647\n",
      "[1] 0\n",
      "[1] 0.6666667\n",
      "[1] -Inf\n",
      "[1] -0.4285714\n",
      "[1] -0.1111111\n",
      "[1] -0.25\n",
      "[1] -0.6666667\n",
      "[1] 0.3333333\n",
      "[1] 0.2857143\n",
      "[1] -0.4285714\n",
      "[1] 0.1666667\n",
      "[1] -4\n",
      "[1] 1.12\n",
      "[1] 0.05894309\n",
      "[1] 0.07079646\n",
      "[1] 0.04724409\n",
      "[1] 0.1075269\n",
      "[1] 0.04142012\n",
      "[1] 0.04040404\n",
      "[1] 0.1081081\n",
      "[1] 0.02531646\n",
      "[1] 0.01470588\n",
      "[1] 0.065\n",
      "[1] 0.1015228\n",
      "[1] 0.1597633\n",
      "[1] 0.1167883\n",
      "[1] 0.34375\n",
      "[1] 0.3181818\n",
      "[1] 0.4\n",
      "[1] 0.04285714\n",
      "[1] 0.08\n",
      "[1] 0.2222222\n",
      "[1] 0.2222222\n",
      "[1] 0.5\n",
      "[1] 0.07142857\n"
     ]
    },
    {
     "data": {
      "text/html": [
       "<table class=\"dataframe\">\n",
       "<caption>A data.frame: 6 × 9</caption>\n",
       "<thead>\n",
       "\t<tr><th></th><th scope=col>Article_ID</th><th scope=col>Total_Cohort</th><th scope=col>Measure_Name</th><th scope=col>Measure_Value</th><th scope=col>X95_CI_lower</th><th scope=col>X95_CI_upper</th><th scope=col>N1_Cancer</th><th scope=col>N2_No_Cancer</th><th scope=col>OR</th></tr>\n",
       "\t<tr><th></th><th scope=col>&lt;chr&gt;</th><th scope=col>&lt;dbl&gt;</th><th scope=col>&lt;chr&gt;</th><th scope=col>&lt;dbl&gt;</th><th scope=col>&lt;dbl&gt;</th><th scope=col>&lt;dbl&gt;</th><th scope=col>&lt;dbl&gt;</th><th scope=col>&lt;dbl&gt;</th><th scope=col>&lt;dbl&gt;</th></tr>\n",
       "</thead>\n",
       "<tbody>\n",
       "\t<tr><th scope=row>1</th><td>Di Luccia, 2010      </td><td>  1216</td><td>OR </td><td>3.04</td><td>1.22</td><td> 7.57</td><td>0</td><td>0</td><td>3.0400000</td></tr>\n",
       "\t<tr><th scope=row>2</th><td>Brewster, 2010       </td><td> 77518</td><td>SIR</td><td>1.40</td><td>0.17</td><td> 5.04</td><td>0</td><td>0</td><td>0.2857143</td></tr>\n",
       "\t<tr><th scope=row>3</th><td>Brewster, 2010       </td><td> 77518</td><td>SIR</td><td>0.00</td><td>0.00</td><td> 3.11</td><td>0</td><td>0</td><td>     -Inf</td></tr>\n",
       "\t<tr><th scope=row>4</th><td>Cnattingius, 1995    </td><td>    89</td><td>OR </td><td>7.50</td><td>1.80</td><td>31.90</td><td>0</td><td>0</td><td>7.5000000</td></tr>\n",
       "\t<tr><th scope=row>5</th><td>Bugaiaki-Shaked, 2022</td><td>342172</td><td>HR </td><td>1.33</td><td>0.95</td><td> 1.84</td><td>0</td><td>0</td><td>1.3300000</td></tr>\n",
       "\t<tr><th scope=row>6</th><td>Bugaiaki-Shaked, 2022</td><td>342172</td><td>HR </td><td>1.09</td><td>0.92</td><td> 1.30</td><td>0</td><td>0</td><td>1.0900000</td></tr>\n",
       "</tbody>\n",
       "</table>\n"
      ],
      "text/latex": [
       "A data.frame: 6 × 9\n",
       "\\begin{tabular}{r|lllllllll}\n",
       "  & Article\\_ID & Total\\_Cohort & Measure\\_Name & Measure\\_Value & X95\\_CI\\_lower & X95\\_CI\\_upper & N1\\_Cancer & N2\\_No\\_Cancer & OR\\\\\n",
       "  & <chr> & <dbl> & <chr> & <dbl> & <dbl> & <dbl> & <dbl> & <dbl> & <dbl>\\\\\n",
       "\\hline\n",
       "\t1 & Di Luccia, 2010       &   1216 & OR  & 3.04 & 1.22 &  7.57 & 0 & 0 & 3.0400000\\\\\n",
       "\t2 & Brewster, 2010        &  77518 & SIR & 1.40 & 0.17 &  5.04 & 0 & 0 & 0.2857143\\\\\n",
       "\t3 & Brewster, 2010        &  77518 & SIR & 0.00 & 0.00 &  3.11 & 0 & 0 &      -Inf\\\\\n",
       "\t4 & Cnattingius, 1995     &     89 & OR  & 7.50 & 1.80 & 31.90 & 0 & 0 & 7.5000000\\\\\n",
       "\t5 & Bugaiaki-Shaked, 2022 & 342172 & HR  & 1.33 & 0.95 &  1.84 & 0 & 0 & 1.3300000\\\\\n",
       "\t6 & Bugaiaki-Shaked, 2022 & 342172 & HR  & 1.09 & 0.92 &  1.30 & 0 & 0 & 1.0900000\\\\\n",
       "\\end{tabular}\n"
      ],
      "text/markdown": [
       "\n",
       "A data.frame: 6 × 9\n",
       "\n",
       "| <!--/--> | Article_ID &lt;chr&gt; | Total_Cohort &lt;dbl&gt; | Measure_Name &lt;chr&gt; | Measure_Value &lt;dbl&gt; | X95_CI_lower &lt;dbl&gt; | X95_CI_upper &lt;dbl&gt; | N1_Cancer &lt;dbl&gt; | N2_No_Cancer &lt;dbl&gt; | OR &lt;dbl&gt; |\n",
       "|---|---|---|---|---|---|---|---|---|---|\n",
       "| 1 | Di Luccia, 2010       |   1216 | OR  | 3.04 | 1.22 |  7.57 | 0 | 0 | 3.0400000 |\n",
       "| 2 | Brewster, 2010        |  77518 | SIR | 1.40 | 0.17 |  5.04 | 0 | 0 | 0.2857143 |\n",
       "| 3 | Brewster, 2010        |  77518 | SIR | 0.00 | 0.00 |  3.11 | 0 | 0 |      -Inf |\n",
       "| 4 | Cnattingius, 1995     |     89 | OR  | 7.50 | 1.80 | 31.90 | 0 | 0 | 7.5000000 |\n",
       "| 5 | Bugaiaki-Shaked, 2022 | 342172 | HR  | 1.33 | 0.95 |  1.84 | 0 | 0 | 1.3300000 |\n",
       "| 6 | Bugaiaki-Shaked, 2022 | 342172 | HR  | 1.09 | 0.92 |  1.30 | 0 | 0 | 1.0900000 |\n",
       "\n"
      ],
      "text/plain": [
       "  Article_ID            Total_Cohort Measure_Name Measure_Value X95_CI_lower\n",
       "1 Di Luccia, 2010         1216       OR           3.04          1.22        \n",
       "2 Brewster, 2010         77518       SIR          1.40          0.17        \n",
       "3 Brewster, 2010         77518       SIR          0.00          0.00        \n",
       "4 Cnattingius, 1995         89       OR           7.50          1.80        \n",
       "5 Bugaiaki-Shaked, 2022 342172       HR           1.33          0.95        \n",
       "6 Bugaiaki-Shaked, 2022 342172       HR           1.09          0.92        \n",
       "  X95_CI_upper N1_Cancer N2_No_Cancer OR       \n",
       "1  7.57        0         0            3.0400000\n",
       "2  5.04        0         0            0.2857143\n",
       "3  3.11        0         0                 -Inf\n",
       "4 31.90        0         0            7.5000000\n",
       "5  1.84        0         0            1.3300000\n",
       "6  1.30        0         0            1.0900000"
      ]
     },
     "metadata": {},
     "output_type": "display_data"
    }
   ],
   "source": [
    "# convert to OR\n",
    "data$OR <- apply(data, 1, convert_to_or)\n",
    "\n",
    "# show the first few rows\n",
    "head(data)"
   ]
  },
  {
   "cell_type": "code",
   "execution_count": null,
   "metadata": {
    "vscode": {
     "languageId": "r"
    }
   },
   "outputs": [],
   "source": [
    "library(metafor)\n",
    "\n",
    "# OR of each study and type of cancer (onr study can have more than 1 entry if it has more than 1 type of cancer observed)\n",
    "or <- data$OR\n",
    "# Standard Errors of the log odds ratios for each type of cancer per study\n",
    "se <- c(0.03, 0.02, 0.03, 0.02, 0.03, 0.02, 0.03, 0.02, 0.03, 0.02, 0.03, 0.02, 0.03, 0.02, 0.03)\n",
    "# Sample size for each study\n",
    "n <- data$Total_Cohort\n",
    "\n",
    "# Fit random-effects model\n",
    "fit <- rma.peto(yi = log(or), sei = se/or, data = data.frame(n = n))\n",
    "\n",
    "# Get overall odds ratio\n",
    "exp(fit$b)\n",
    "\n",
    "# Plot forest plot\n",
    "forest(fit, exp = TRUE)"
   ]
  }
 ],
 "metadata": {
  "kernelspec": {
   "display_name": "R",
   "language": "R",
   "name": "ir"
  },
  "language_info": {
   "codemirror_mode": "r",
   "file_extension": ".r",
   "mimetype": "text/x-r-source",
   "name": "R",
   "pygments_lexer": "r",
   "version": "4.2.2"
  },
  "orig_nbformat": 4
 },
 "nbformat": 4,
 "nbformat_minor": 2
}
