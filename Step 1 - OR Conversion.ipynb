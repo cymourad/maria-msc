{
 "cells": [
  {
   "attachments": {},
   "cell_type": "markdown",
   "metadata": {},
   "source": [
    "# Overview:\n",
    " - we processed the data to have the same measure for all studies \n",
    " - we chose OR as the common measure for all studies\n",
    " - we also chose to use the 95% CI for all studies\n",
    "\n",
    "# Steps:\n",
    "1. read data\n",
    "2. cleaned up file to keep only the numbers\n",
    "   * removed all the special formatting\n",
    "   * changed column names to simplify\n",
    "3. converted all the measures to OR\n",
    "   * cut the ORs to be only between `0` and `10` because in log OR we can not have anything less than 0 \n",
    "   * aka: if there were any numbers less than `0.1`, they were given the value `0.1`\n",
    "   * aka: if there were any numbers greater than `10`, they were given the value `10`\n",
    "   This is because the `Crude IRR` conversion could result in infinity\n",
    "   (when dividing by 0, will give a result of infinity-- not useful for us)\n",
    "      ```R\n",
    "      if (measure_name == \"Crude IRR\"){\n",
    "         OR <- measure / (1 - measure)\n",
    "      }\n",
    "      ```"
   ]
  },
  {
   "cell_type": "code",
   "execution_count": 1,
   "metadata": {
    "vscode": {
     "languageId": "r"
    }
   },
   "outputs": [],
   "source": [
    "# Function to convert measures to OR\n",
    "convert_to_or <- function(row){\n",
    "\n",
    "  measure_name <- row[['Measure_Name']]\n",
    "  measure <- as.numeric(row[['Measure_Value']])\n",
    "  n1 <- as.numeric(row[['N1_Cancer']])\n",
    "  n2 <- as.numeric(row[['N2_No_Cancer']])\n",
    "\n",
    "  if (measure_name == \"OR\"){\n",
    "    OR <- measure\n",
    "  } else if (measure_name == \"Crude OR\") {\n",
    "    OR <- measure\n",
    "  } else if (measure_name == \"Adjusted OR\") {\n",
    "    OR <- measure\n",
    "  } else if (measure_name == \"RD\"){\n",
    "    OR <- measure\n",
    "  } else if (measure_name == \"SIR\"){\n",
    "    # TODO: two SIR values are 0, please fix the upstream data\n",
    "    OR <- measure\n",
    "  } else if (measure_name == \"RR\"){\n",
    "    OR <- measure\n",
    "  } else if (measure_name == \"HR\"){\n",
    "    OR <- measure\n",
    "  } else if (measure_name == \"Crude IRR\"){\n",
    "    OR <- measure\n",
    "  } else if (measure_name == \"AHR\"){\n",
    "    OR <- measure \n",
    "  }\n",
    "  # print(OR)\n",
    "  if (OR < 0.1) {\n",
    "    OR <- 0.0001\n",
    "  } else if (OR > 10) {\n",
    "    OR <- 10\n",
    "  }\n",
    "  return(OR)\n",
    "}"
   ]
  },
  {
   "cell_type": "code",
   "execution_count": 2,
   "metadata": {
    "vscode": {
     "languageId": "r"
    }
   },
   "outputs": [
    {
     "data": {
      "text/html": [
       "<table class=\"dataframe\">\n",
       "<caption>A data.frame: 6 x 13</caption>\n",
       "<thead>\n",
       "\t<tr><th></th><th scope=col>Article_ID</th><th scope=col>Total_Cohort</th><th scope=col>Measure_Name</th><th scope=col>Measure_Value</th><th scope=col>X95_CI_lower</th><th scope=col>X95_CI_upper</th><th scope=col>N1_Cancer</th><th scope=col>N2_No_Cancer</th><th scope=col>Cancer.Type</th><th scope=col>Exclude.From.Overall.Plot</th><th scope=col>CANCER.GROUP</th><th scope=col>X</th><th scope=col>n</th></tr>\n",
       "\t<tr><th></th><th scope=col>&lt;chr&gt;</th><th scope=col>&lt;chr&gt;</th><th scope=col>&lt;chr&gt;</th><th scope=col>&lt;dbl&gt;</th><th scope=col>&lt;dbl&gt;</th><th scope=col>&lt;dbl&gt;</th><th scope=col>&lt;dbl&gt;</th><th scope=col>&lt;dbl&gt;</th><th scope=col>&lt;chr&gt;</th><th scope=col>&lt;chr&gt;</th><th scope=col>&lt;chr&gt;</th><th scope=col>&lt;lgl&gt;</th><th scope=col>&lt;dbl&gt;</th></tr>\n",
       "</thead>\n",
       "<tbody>\n",
       "\t<tr><th scope=row>1</th><td>Di et al. Lucca, 2010       </td><td>1,216  </td><td>OR </td><td>3.04</td><td>1.22</td><td> 7.57</td><td>0</td><td>0</td><td>Melanoma                 </td><td></td><td>SKIN       </td><td>NA</td><td>  1216</td></tr>\n",
       "\t<tr><th scope=row>2</th><td>Brewster et al., 2010       </td><td>77,518 </td><td>SIR</td><td>1.40</td><td>0.17</td><td> 5.04</td><td>0</td><td>0</td><td>Melanoma                 </td><td></td><td>SKIN       </td><td>NA</td><td> 77518</td></tr>\n",
       "\t<tr><th scope=row>3</th><td>Brewster et al., 2010       </td><td>77,518 </td><td>SIR</td><td>0.00</td><td>0.00</td><td> 3.11</td><td>0</td><td>0</td><td>Basal Cell Carcinoma     </td><td></td><td>SKIN       </td><td>NA</td><td> 77518</td></tr>\n",
       "\t<tr><th scope=row>4</th><td>Cnattingius et al., 1995    </td><td>98     </td><td>OR </td><td>7.50</td><td>1.80</td><td>31.90</td><td>0</td><td>0</td><td>Myeloid Leukemia         </td><td></td><td>BLOOD      </td><td>NA</td><td>    98</td></tr>\n",
       "\t<tr><th scope=row>5</th><td>Bugaiski et al.-Shaked, 2022</td><td>342,172</td><td>HR </td><td>1.33</td><td>0.95</td><td> 1.84</td><td>0</td><td>0</td><td>Total Malignant Morbidity</td><td></td><td>SOLID ORGAN</td><td>NA</td><td>342172</td></tr>\n",
       "\t<tr><th scope=row>6</th><td>Bugaiski et al.-Shaked, 2022</td><td>342,172</td><td>HR </td><td>1.09</td><td>0.92</td><td> 1.30</td><td>0</td><td>0</td><td>Total Bengin Tumors      </td><td></td><td>SOLID ORGAN</td><td>NA</td><td>342172</td></tr>\n",
       "</tbody>\n",
       "</table>\n"
      ],
      "text/latex": [
       "A data.frame: 6 x 13\n",
       "\\begin{tabular}{r|lllllllllllll}\n",
       "  & Article\\_ID & Total\\_Cohort & Measure\\_Name & Measure\\_Value & X95\\_CI\\_lower & X95\\_CI\\_upper & N1\\_Cancer & N2\\_No\\_Cancer & Cancer.Type & Exclude.From.Overall.Plot & CANCER.GROUP & X & n\\\\\n",
       "  & <chr> & <chr> & <chr> & <dbl> & <dbl> & <dbl> & <dbl> & <dbl> & <chr> & <chr> & <chr> & <lgl> & <dbl>\\\\\n",
       "\\hline\n",
       "\t1 & Di et al. Lucca, 2010        & 1,216   & OR  & 3.04 & 1.22 &  7.57 & 0 & 0 & Melanoma                  &  & SKIN        & NA &   1216\\\\\n",
       "\t2 & Brewster et al., 2010        & 77,518  & SIR & 1.40 & 0.17 &  5.04 & 0 & 0 & Melanoma                  &  & SKIN        & NA &  77518\\\\\n",
       "\t3 & Brewster et al., 2010        & 77,518  & SIR & 0.00 & 0.00 &  3.11 & 0 & 0 & Basal Cell Carcinoma      &  & SKIN        & NA &  77518\\\\\n",
       "\t4 & Cnattingius et al., 1995     & 98      & OR  & 7.50 & 1.80 & 31.90 & 0 & 0 & Myeloid Leukemia          &  & BLOOD       & NA &     98\\\\\n",
       "\t5 & Bugaiski et al.-Shaked, 2022 & 342,172 & HR  & 1.33 & 0.95 &  1.84 & 0 & 0 & Total Malignant Morbidity &  & SOLID ORGAN & NA & 342172\\\\\n",
       "\t6 & Bugaiski et al.-Shaked, 2022 & 342,172 & HR  & 1.09 & 0.92 &  1.30 & 0 & 0 & Total Bengin Tumors       &  & SOLID ORGAN & NA & 342172\\\\\n",
       "\\end{tabular}\n"
      ],
      "text/markdown": [
       "\n",
       "A data.frame: 6 x 13\n",
       "\n",
       "| <!--/--> | Article_ID &lt;chr&gt; | Total_Cohort &lt;chr&gt; | Measure_Name &lt;chr&gt; | Measure_Value &lt;dbl&gt; | X95_CI_lower &lt;dbl&gt; | X95_CI_upper &lt;dbl&gt; | N1_Cancer &lt;dbl&gt; | N2_No_Cancer &lt;dbl&gt; | Cancer.Type &lt;chr&gt; | Exclude.From.Overall.Plot &lt;chr&gt; | CANCER.GROUP &lt;chr&gt; | X &lt;lgl&gt; | n &lt;dbl&gt; |\n",
       "|---|---|---|---|---|---|---|---|---|---|---|---|---|---|\n",
       "| 1 | Di et al. Lucca, 2010        | 1,216   | OR  | 3.04 | 1.22 |  7.57 | 0 | 0 | Melanoma                  | <!----> | SKIN        | NA |   1216 |\n",
       "| 2 | Brewster et al., 2010        | 77,518  | SIR | 1.40 | 0.17 |  5.04 | 0 | 0 | Melanoma                  | <!----> | SKIN        | NA |  77518 |\n",
       "| 3 | Brewster et al., 2010        | 77,518  | SIR | 0.00 | 0.00 |  3.11 | 0 | 0 | Basal Cell Carcinoma      | <!----> | SKIN        | NA |  77518 |\n",
       "| 4 | Cnattingius et al., 1995     | 98      | OR  | 7.50 | 1.80 | 31.90 | 0 | 0 | Myeloid Leukemia          | <!----> | BLOOD       | NA |     98 |\n",
       "| 5 | Bugaiski et al.-Shaked, 2022 | 342,172 | HR  | 1.33 | 0.95 |  1.84 | 0 | 0 | Total Malignant Morbidity | <!----> | SOLID ORGAN | NA | 342172 |\n",
       "| 6 | Bugaiski et al.-Shaked, 2022 | 342,172 | HR  | 1.09 | 0.92 |  1.30 | 0 | 0 | Total Bengin Tumors       | <!----> | SOLID ORGAN | NA | 342172 |\n",
       "\n"
      ],
      "text/plain": [
       "  Article_ID                   Total_Cohort Measure_Name Measure_Value\n",
       "1 Di et al. Lucca, 2010        1,216        OR           3.04         \n",
       "2 Brewster et al., 2010        77,518       SIR          1.40         \n",
       "3 Brewster et al., 2010        77,518       SIR          0.00         \n",
       "4 Cnattingius et al., 1995     98           OR           7.50         \n",
       "5 Bugaiski et al.-Shaked, 2022 342,172      HR           1.33         \n",
       "6 Bugaiski et al.-Shaked, 2022 342,172      HR           1.09         \n",
       "  X95_CI_lower X95_CI_upper N1_Cancer N2_No_Cancer Cancer.Type              \n",
       "1 1.22          7.57        0         0            Melanoma                 \n",
       "2 0.17          5.04        0         0            Melanoma                 \n",
       "3 0.00          3.11        0         0            Basal Cell Carcinoma     \n",
       "4 1.80         31.90        0         0            Myeloid Leukemia         \n",
       "5 0.95          1.84        0         0            Total Malignant Morbidity\n",
       "6 0.92          1.30        0         0            Total Bengin Tumors      \n",
       "  Exclude.From.Overall.Plot CANCER.GROUP X  n     \n",
       "1                           SKIN         NA   1216\n",
       "2                           SKIN         NA  77518\n",
       "3                           SKIN         NA  77518\n",
       "4                           BLOOD        NA     98\n",
       "5                           SOLID ORGAN  NA 342172\n",
       "6                           SOLID ORGAN  NA 342172"
      ]
     },
     "metadata": {},
     "output_type": "display_data"
    }
   ],
   "source": [
    "# read data in\n",
    "data <- read.csv(\"studies-raw-data.csv\")\n",
    "\n",
    "# remove commas from Total_Cohort and parse as numeric\n",
    "data$n <- as.numeric(gsub(\",\", \"\",data$Total_Cohort))\n",
    "\n",
    "# convert Measure_Value to numeric\n",
    "data$Measure_Value <- as.numeric(data$Measure_Value)\n",
    "\n",
    "# parse N1_Cancer as numeric or fill with 0\n",
    "data$N1_Cancer <- as.numeric(data$N1_Cancer)\n",
    "data$N1_Cancer[is.na(data$N1_Cancer)] <- 0\n",
    "\n",
    "# parse N2_No_Cancer as numeric or fill with 0\n",
    "data$N2_No_Cancer <- as.numeric(data$N2_No_Cancer)\n",
    "data$N2_No_Cancer[is.na(data$N2_No_Cancer)] <- 0\n",
    "\n",
    "# delete rows with no confidence interval\n",
    "data <- data[!is.na(data$X95_CI_lower),]\n",
    "data <- data[!is.na(data$X95_CI_upper),]\n",
    "\n",
    "# show the first few rows\n",
    "head(data)"
   ]
  },
  {
   "cell_type": "code",
   "execution_count": 3,
   "metadata": {
    "vscode": {
     "languageId": "r"
    }
   },
   "outputs": [
    {
     "data": {
      "text/html": [
       "<table class=\"dataframe\">\n",
       "<caption>A data.frame: 6 x 14</caption>\n",
       "<thead>\n",
       "\t<tr><th></th><th scope=col>Article_ID</th><th scope=col>Total_Cohort</th><th scope=col>Measure_Name</th><th scope=col>Measure_Value</th><th scope=col>X95_CI_lower</th><th scope=col>X95_CI_upper</th><th scope=col>N1_Cancer</th><th scope=col>N2_No_Cancer</th><th scope=col>Cancer.Type</th><th scope=col>Exclude.From.Overall.Plot</th><th scope=col>CANCER.GROUP</th><th scope=col>X</th><th scope=col>n</th><th scope=col>OR</th></tr>\n",
       "\t<tr><th></th><th scope=col>&lt;chr&gt;</th><th scope=col>&lt;chr&gt;</th><th scope=col>&lt;chr&gt;</th><th scope=col>&lt;dbl&gt;</th><th scope=col>&lt;dbl&gt;</th><th scope=col>&lt;dbl&gt;</th><th scope=col>&lt;dbl&gt;</th><th scope=col>&lt;dbl&gt;</th><th scope=col>&lt;chr&gt;</th><th scope=col>&lt;chr&gt;</th><th scope=col>&lt;chr&gt;</th><th scope=col>&lt;lgl&gt;</th><th scope=col>&lt;dbl&gt;</th><th scope=col>&lt;dbl&gt;</th></tr>\n",
       "</thead>\n",
       "<tbody>\n",
       "\t<tr><th scope=row>1</th><td>Di et al. Lucca, 2010       </td><td>1,216  </td><td>OR </td><td>3.04</td><td>1.22</td><td> 7.57</td><td>0</td><td>0</td><td>Melanoma                 </td><td></td><td>SKIN       </td><td>NA</td><td>  1216</td><td>3.0400</td></tr>\n",
       "\t<tr><th scope=row>2</th><td>Brewster et al., 2010       </td><td>77,518 </td><td>SIR</td><td>1.40</td><td>0.17</td><td> 5.04</td><td>0</td><td>0</td><td>Melanoma                 </td><td></td><td>SKIN       </td><td>NA</td><td> 77518</td><td>1.4000</td></tr>\n",
       "\t<tr><th scope=row>3</th><td>Brewster et al., 2010       </td><td>77,518 </td><td>SIR</td><td>0.00</td><td>0.00</td><td> 3.11</td><td>0</td><td>0</td><td>Basal Cell Carcinoma     </td><td></td><td>SKIN       </td><td>NA</td><td> 77518</td><td>0.0001</td></tr>\n",
       "\t<tr><th scope=row>4</th><td>Cnattingius et al., 1995    </td><td>98     </td><td>OR </td><td>7.50</td><td>1.80</td><td>31.90</td><td>0</td><td>0</td><td>Myeloid Leukemia         </td><td></td><td>BLOOD      </td><td>NA</td><td>    98</td><td>7.5000</td></tr>\n",
       "\t<tr><th scope=row>5</th><td>Bugaiski et al.-Shaked, 2022</td><td>342,172</td><td>HR </td><td>1.33</td><td>0.95</td><td> 1.84</td><td>0</td><td>0</td><td>Total Malignant Morbidity</td><td></td><td>SOLID ORGAN</td><td>NA</td><td>342172</td><td>1.3300</td></tr>\n",
       "\t<tr><th scope=row>6</th><td>Bugaiski et al.-Shaked, 2022</td><td>342,172</td><td>HR </td><td>1.09</td><td>0.92</td><td> 1.30</td><td>0</td><td>0</td><td>Total Bengin Tumors      </td><td></td><td>SOLID ORGAN</td><td>NA</td><td>342172</td><td>1.0900</td></tr>\n",
       "</tbody>\n",
       "</table>\n"
      ],
      "text/latex": [
       "A data.frame: 6 x 14\n",
       "\\begin{tabular}{r|llllllllllllll}\n",
       "  & Article\\_ID & Total\\_Cohort & Measure\\_Name & Measure\\_Value & X95\\_CI\\_lower & X95\\_CI\\_upper & N1\\_Cancer & N2\\_No\\_Cancer & Cancer.Type & Exclude.From.Overall.Plot & CANCER.GROUP & X & n & OR\\\\\n",
       "  & <chr> & <chr> & <chr> & <dbl> & <dbl> & <dbl> & <dbl> & <dbl> & <chr> & <chr> & <chr> & <lgl> & <dbl> & <dbl>\\\\\n",
       "\\hline\n",
       "\t1 & Di et al. Lucca, 2010        & 1,216   & OR  & 3.04 & 1.22 &  7.57 & 0 & 0 & Melanoma                  &  & SKIN        & NA &   1216 & 3.0400\\\\\n",
       "\t2 & Brewster et al., 2010        & 77,518  & SIR & 1.40 & 0.17 &  5.04 & 0 & 0 & Melanoma                  &  & SKIN        & NA &  77518 & 1.4000\\\\\n",
       "\t3 & Brewster et al., 2010        & 77,518  & SIR & 0.00 & 0.00 &  3.11 & 0 & 0 & Basal Cell Carcinoma      &  & SKIN        & NA &  77518 & 0.0001\\\\\n",
       "\t4 & Cnattingius et al., 1995     & 98      & OR  & 7.50 & 1.80 & 31.90 & 0 & 0 & Myeloid Leukemia          &  & BLOOD       & NA &     98 & 7.5000\\\\\n",
       "\t5 & Bugaiski et al.-Shaked, 2022 & 342,172 & HR  & 1.33 & 0.95 &  1.84 & 0 & 0 & Total Malignant Morbidity &  & SOLID ORGAN & NA & 342172 & 1.3300\\\\\n",
       "\t6 & Bugaiski et al.-Shaked, 2022 & 342,172 & HR  & 1.09 & 0.92 &  1.30 & 0 & 0 & Total Bengin Tumors       &  & SOLID ORGAN & NA & 342172 & 1.0900\\\\\n",
       "\\end{tabular}\n"
      ],
      "text/markdown": [
       "\n",
       "A data.frame: 6 x 14\n",
       "\n",
       "| <!--/--> | Article_ID &lt;chr&gt; | Total_Cohort &lt;chr&gt; | Measure_Name &lt;chr&gt; | Measure_Value &lt;dbl&gt; | X95_CI_lower &lt;dbl&gt; | X95_CI_upper &lt;dbl&gt; | N1_Cancer &lt;dbl&gt; | N2_No_Cancer &lt;dbl&gt; | Cancer.Type &lt;chr&gt; | Exclude.From.Overall.Plot &lt;chr&gt; | CANCER.GROUP &lt;chr&gt; | X &lt;lgl&gt; | n &lt;dbl&gt; | OR &lt;dbl&gt; |\n",
       "|---|---|---|---|---|---|---|---|---|---|---|---|---|---|---|\n",
       "| 1 | Di et al. Lucca, 2010        | 1,216   | OR  | 3.04 | 1.22 |  7.57 | 0 | 0 | Melanoma                  | <!----> | SKIN        | NA |   1216 | 3.0400 |\n",
       "| 2 | Brewster et al., 2010        | 77,518  | SIR | 1.40 | 0.17 |  5.04 | 0 | 0 | Melanoma                  | <!----> | SKIN        | NA |  77518 | 1.4000 |\n",
       "| 3 | Brewster et al., 2010        | 77,518  | SIR | 0.00 | 0.00 |  3.11 | 0 | 0 | Basal Cell Carcinoma      | <!----> | SKIN        | NA |  77518 | 0.0001 |\n",
       "| 4 | Cnattingius et al., 1995     | 98      | OR  | 7.50 | 1.80 | 31.90 | 0 | 0 | Myeloid Leukemia          | <!----> | BLOOD       | NA |     98 | 7.5000 |\n",
       "| 5 | Bugaiski et al.-Shaked, 2022 | 342,172 | HR  | 1.33 | 0.95 |  1.84 | 0 | 0 | Total Malignant Morbidity | <!----> | SOLID ORGAN | NA | 342172 | 1.3300 |\n",
       "| 6 | Bugaiski et al.-Shaked, 2022 | 342,172 | HR  | 1.09 | 0.92 |  1.30 | 0 | 0 | Total Bengin Tumors       | <!----> | SOLID ORGAN | NA | 342172 | 1.0900 |\n",
       "\n"
      ],
      "text/plain": [
       "  Article_ID                   Total_Cohort Measure_Name Measure_Value\n",
       "1 Di et al. Lucca, 2010        1,216        OR           3.04         \n",
       "2 Brewster et al., 2010        77,518       SIR          1.40         \n",
       "3 Brewster et al., 2010        77,518       SIR          0.00         \n",
       "4 Cnattingius et al., 1995     98           OR           7.50         \n",
       "5 Bugaiski et al.-Shaked, 2022 342,172      HR           1.33         \n",
       "6 Bugaiski et al.-Shaked, 2022 342,172      HR           1.09         \n",
       "  X95_CI_lower X95_CI_upper N1_Cancer N2_No_Cancer Cancer.Type              \n",
       "1 1.22          7.57        0         0            Melanoma                 \n",
       "2 0.17          5.04        0         0            Melanoma                 \n",
       "3 0.00          3.11        0         0            Basal Cell Carcinoma     \n",
       "4 1.80         31.90        0         0            Myeloid Leukemia         \n",
       "5 0.95          1.84        0         0            Total Malignant Morbidity\n",
       "6 0.92          1.30        0         0            Total Bengin Tumors      \n",
       "  Exclude.From.Overall.Plot CANCER.GROUP X  n      OR    \n",
       "1                           SKIN         NA   1216 3.0400\n",
       "2                           SKIN         NA  77518 1.4000\n",
       "3                           SKIN         NA  77518 0.0001\n",
       "4                           BLOOD        NA     98 7.5000\n",
       "5                           SOLID ORGAN  NA 342172 1.3300\n",
       "6                           SOLID ORGAN  NA 342172 1.0900"
      ]
     },
     "metadata": {},
     "output_type": "display_data"
    }
   ],
   "source": [
    "# convert to OR\n",
    "data$OR <- apply(data, 1, convert_to_or)\n",
    "\n",
    "# show the first few rows\n",
    "head(data)"
   ]
  },
  {
   "cell_type": "code",
   "execution_count": 4,
   "metadata": {
    "vscode": {
     "languageId": "r"
    }
   },
   "outputs": [
    {
     "data": {
      "text/html": [
       "<table class=\"dataframe\">\n",
       "<caption>A data.frame: 6 x 22</caption>\n",
       "<thead>\n",
       "\t<tr><th></th><th scope=col>Article_ID</th><th scope=col>Total_Cohort</th><th scope=col>Measure_Name</th><th scope=col>Measure_Value</th><th scope=col>X95_CI_lower</th><th scope=col>X95_CI_upper</th><th scope=col>N1_Cancer</th><th scope=col>N2_No_Cancer</th><th scope=col>Cancer.Type</th><th scope=col>Exclude.From.Overall.Plot</th><th scope=col>...</th><th scope=col>n</th><th scope=col>OR</th><th scope=col>odds_ratio</th><th scope=col>lower_ci</th><th scope=col>upper_ci</th><th scope=col>article_id</th><th scope=col>cancer_type</th><th scope=col>cancer_group</th><th scope=col>exclude_from_overall_plot</th><th scope=col>Article_Code</th></tr>\n",
       "\t<tr><th></th><th scope=col>&lt;chr&gt;</th><th scope=col>&lt;chr&gt;</th><th scope=col>&lt;chr&gt;</th><th scope=col>&lt;dbl&gt;</th><th scope=col>&lt;dbl&gt;</th><th scope=col>&lt;dbl&gt;</th><th scope=col>&lt;dbl&gt;</th><th scope=col>&lt;dbl&gt;</th><th scope=col>&lt;chr&gt;</th><th scope=col>&lt;chr&gt;</th><th scope=col>...</th><th scope=col>&lt;dbl&gt;</th><th scope=col>&lt;dbl&gt;</th><th scope=col>&lt;dbl&gt;</th><th scope=col>&lt;dbl&gt;</th><th scope=col>&lt;dbl&gt;</th><th scope=col>&lt;chr&gt;</th><th scope=col>&lt;chr&gt;</th><th scope=col>&lt;chr&gt;</th><th scope=col>&lt;chr&gt;</th><th scope=col>&lt;chr&gt;</th></tr>\n",
       "</thead>\n",
       "<tbody>\n",
       "\t<tr><th scope=row>1</th><td>Di et al. Lucca, 2010       </td><td>1,216  </td><td>OR </td><td>3.04</td><td>1.22</td><td> 7.57</td><td>0</td><td>0</td><td>Melanoma                 </td><td></td><td>...</td><td>  1216</td><td>3.0400</td><td>3.0400</td><td>1.22</td><td> 7.57</td><td>Di et al. Lucca, 2010       </td><td>Melanoma                 </td><td>SKIN       </td><td></td><td>D10</td></tr>\n",
       "\t<tr><th scope=row>2</th><td>Brewster et al., 2010       </td><td>77,518 </td><td>SIR</td><td>1.40</td><td>0.17</td><td> 5.04</td><td>0</td><td>0</td><td>Melanoma                 </td><td></td><td>...</td><td> 77518</td><td>1.4000</td><td>1.4000</td><td>0.17</td><td> 5.04</td><td>Brewster et al., 2010       </td><td>Melanoma                 </td><td>SKIN       </td><td></td><td>B10</td></tr>\n",
       "\t<tr><th scope=row>3</th><td>Brewster et al., 2010       </td><td>77,518 </td><td>SIR</td><td>0.00</td><td>0.00</td><td> 3.11</td><td>0</td><td>0</td><td>Basal Cell Carcinoma     </td><td></td><td>...</td><td> 77518</td><td>0.0001</td><td>0.0001</td><td>0.00</td><td> 3.11</td><td>Brewster et al., 2010       </td><td>Basal Cell Carcinoma     </td><td>SKIN       </td><td></td><td>B10</td></tr>\n",
       "\t<tr><th scope=row>4</th><td>Cnattingius et al., 1995    </td><td>98     </td><td>OR </td><td>7.50</td><td>1.80</td><td>31.90</td><td>0</td><td>0</td><td>Myeloid Leukemia         </td><td></td><td>...</td><td>    98</td><td>7.5000</td><td>7.5000</td><td>1.80</td><td>31.90</td><td>Cnattingius et al., 1995    </td><td>Myeloid Leukemia         </td><td>BLOOD      </td><td></td><td>C95</td></tr>\n",
       "\t<tr><th scope=row>5</th><td>Bugaiski et al.-Shaked, 2022</td><td>342,172</td><td>HR </td><td>1.33</td><td>0.95</td><td> 1.84</td><td>0</td><td>0</td><td>Total Malignant Morbidity</td><td></td><td>...</td><td>342172</td><td>1.3300</td><td>1.3300</td><td>0.95</td><td> 1.84</td><td>Bugaiski et al.-Shaked, 2022</td><td>Total Malignant Morbidity</td><td>SOLID ORGAN</td><td></td><td>B22</td></tr>\n",
       "\t<tr><th scope=row>6</th><td>Bugaiski et al.-Shaked, 2022</td><td>342,172</td><td>HR </td><td>1.09</td><td>0.92</td><td> 1.30</td><td>0</td><td>0</td><td>Total Bengin Tumors      </td><td></td><td>...</td><td>342172</td><td>1.0900</td><td>1.0900</td><td>0.92</td><td> 1.30</td><td>Bugaiski et al.-Shaked, 2022</td><td>Total Bengin Tumors      </td><td>SOLID ORGAN</td><td></td><td>B22</td></tr>\n",
       "</tbody>\n",
       "</table>\n"
      ],
      "text/latex": [
       "A data.frame: 6 x 22\n",
       "\\begin{tabular}{r|lllllllllllllllllllll}\n",
       "  & Article\\_ID & Total\\_Cohort & Measure\\_Name & Measure\\_Value & X95\\_CI\\_lower & X95\\_CI\\_upper & N1\\_Cancer & N2\\_No\\_Cancer & Cancer.Type & Exclude.From.Overall.Plot & ... & n & OR & odds\\_ratio & lower\\_ci & upper\\_ci & article\\_id & cancer\\_type & cancer\\_group & exclude\\_from\\_overall\\_plot & Article\\_Code\\\\\n",
       "  & <chr> & <chr> & <chr> & <dbl> & <dbl> & <dbl> & <dbl> & <dbl> & <chr> & <chr> & ... & <dbl> & <dbl> & <dbl> & <dbl> & <dbl> & <chr> & <chr> & <chr> & <chr> & <chr>\\\\\n",
       "\\hline\n",
       "\t1 & Di et al. Lucca, 2010        & 1,216   & OR  & 3.04 & 1.22 &  7.57 & 0 & 0 & Melanoma                  &  & ... &   1216 & 3.0400 & 3.0400 & 1.22 &  7.57 & Di et al. Lucca, 2010        & Melanoma                  & SKIN        &  & D10\\\\\n",
       "\t2 & Brewster et al., 2010        & 77,518  & SIR & 1.40 & 0.17 &  5.04 & 0 & 0 & Melanoma                  &  & ... &  77518 & 1.4000 & 1.4000 & 0.17 &  5.04 & Brewster et al., 2010        & Melanoma                  & SKIN        &  & B10\\\\\n",
       "\t3 & Brewster et al., 2010        & 77,518  & SIR & 0.00 & 0.00 &  3.11 & 0 & 0 & Basal Cell Carcinoma      &  & ... &  77518 & 0.0001 & 0.0001 & 0.00 &  3.11 & Brewster et al., 2010        & Basal Cell Carcinoma      & SKIN        &  & B10\\\\\n",
       "\t4 & Cnattingius et al., 1995     & 98      & OR  & 7.50 & 1.80 & 31.90 & 0 & 0 & Myeloid Leukemia          &  & ... &     98 & 7.5000 & 7.5000 & 1.80 & 31.90 & Cnattingius et al., 1995     & Myeloid Leukemia          & BLOOD       &  & C95\\\\\n",
       "\t5 & Bugaiski et al.-Shaked, 2022 & 342,172 & HR  & 1.33 & 0.95 &  1.84 & 0 & 0 & Total Malignant Morbidity &  & ... & 342172 & 1.3300 & 1.3300 & 0.95 &  1.84 & Bugaiski et al.-Shaked, 2022 & Total Malignant Morbidity & SOLID ORGAN &  & B22\\\\\n",
       "\t6 & Bugaiski et al.-Shaked, 2022 & 342,172 & HR  & 1.09 & 0.92 &  1.30 & 0 & 0 & Total Bengin Tumors       &  & ... & 342172 & 1.0900 & 1.0900 & 0.92 &  1.30 & Bugaiski et al.-Shaked, 2022 & Total Bengin Tumors       & SOLID ORGAN &  & B22\\\\\n",
       "\\end{tabular}\n"
      ],
      "text/markdown": [
       "\n",
       "A data.frame: 6 x 22\n",
       "\n",
       "| <!--/--> | Article_ID &lt;chr&gt; | Total_Cohort &lt;chr&gt; | Measure_Name &lt;chr&gt; | Measure_Value &lt;dbl&gt; | X95_CI_lower &lt;dbl&gt; | X95_CI_upper &lt;dbl&gt; | N1_Cancer &lt;dbl&gt; | N2_No_Cancer &lt;dbl&gt; | Cancer.Type &lt;chr&gt; | Exclude.From.Overall.Plot &lt;chr&gt; | ... ... | n &lt;dbl&gt; | OR &lt;dbl&gt; | odds_ratio &lt;dbl&gt; | lower_ci &lt;dbl&gt; | upper_ci &lt;dbl&gt; | article_id &lt;chr&gt; | cancer_type &lt;chr&gt; | cancer_group &lt;chr&gt; | exclude_from_overall_plot &lt;chr&gt; | Article_Code &lt;chr&gt; |\n",
       "|---|---|---|---|---|---|---|---|---|---|---|---|---|---|---|---|---|---|---|---|---|---|\n",
       "| 1 | Di et al. Lucca, 2010        | 1,216   | OR  | 3.04 | 1.22 |  7.57 | 0 | 0 | Melanoma                  | <!----> | ... |   1216 | 3.0400 | 3.0400 | 1.22 |  7.57 | Di et al. Lucca, 2010        | Melanoma                  | SKIN        | <!----> | D10 |\n",
       "| 2 | Brewster et al., 2010        | 77,518  | SIR | 1.40 | 0.17 |  5.04 | 0 | 0 | Melanoma                  | <!----> | ... |  77518 | 1.4000 | 1.4000 | 0.17 |  5.04 | Brewster et al., 2010        | Melanoma                  | SKIN        | <!----> | B10 |\n",
       "| 3 | Brewster et al., 2010        | 77,518  | SIR | 0.00 | 0.00 |  3.11 | 0 | 0 | Basal Cell Carcinoma      | <!----> | ... |  77518 | 0.0001 | 0.0001 | 0.00 |  3.11 | Brewster et al., 2010        | Basal Cell Carcinoma      | SKIN        | <!----> | B10 |\n",
       "| 4 | Cnattingius et al., 1995     | 98      | OR  | 7.50 | 1.80 | 31.90 | 0 | 0 | Myeloid Leukemia          | <!----> | ... |     98 | 7.5000 | 7.5000 | 1.80 | 31.90 | Cnattingius et al., 1995     | Myeloid Leukemia          | BLOOD       | <!----> | C95 |\n",
       "| 5 | Bugaiski et al.-Shaked, 2022 | 342,172 | HR  | 1.33 | 0.95 |  1.84 | 0 | 0 | Total Malignant Morbidity | <!----> | ... | 342172 | 1.3300 | 1.3300 | 0.95 |  1.84 | Bugaiski et al.-Shaked, 2022 | Total Malignant Morbidity | SOLID ORGAN | <!----> | B22 |\n",
       "| 6 | Bugaiski et al.-Shaked, 2022 | 342,172 | HR  | 1.09 | 0.92 |  1.30 | 0 | 0 | Total Bengin Tumors       | <!----> | ... | 342172 | 1.0900 | 1.0900 | 0.92 |  1.30 | Bugaiski et al.-Shaked, 2022 | Total Bengin Tumors       | SOLID ORGAN | <!----> | B22 |\n",
       "\n"
      ],
      "text/plain": [
       "  Article_ID                   Total_Cohort Measure_Name Measure_Value\n",
       "1 Di et al. Lucca, 2010        1,216        OR           3.04         \n",
       "2 Brewster et al., 2010        77,518       SIR          1.40         \n",
       "3 Brewster et al., 2010        77,518       SIR          0.00         \n",
       "4 Cnattingius et al., 1995     98           OR           7.50         \n",
       "5 Bugaiski et al.-Shaked, 2022 342,172      HR           1.33         \n",
       "6 Bugaiski et al.-Shaked, 2022 342,172      HR           1.09         \n",
       "  X95_CI_lower X95_CI_upper N1_Cancer N2_No_Cancer Cancer.Type              \n",
       "1 1.22          7.57        0         0            Melanoma                 \n",
       "2 0.17          5.04        0         0            Melanoma                 \n",
       "3 0.00          3.11        0         0            Basal Cell Carcinoma     \n",
       "4 1.80         31.90        0         0            Myeloid Leukemia         \n",
       "5 0.95          1.84        0         0            Total Malignant Morbidity\n",
       "6 0.92          1.30        0         0            Total Bengin Tumors      \n",
       "  Exclude.From.Overall.Plot ... n      OR     odds_ratio lower_ci upper_ci\n",
       "1                           ...   1216 3.0400 3.0400     1.22      7.57   \n",
       "2                           ...  77518 1.4000 1.4000     0.17      5.04   \n",
       "3                           ...  77518 0.0001 0.0001     0.00      3.11   \n",
       "4                           ...     98 7.5000 7.5000     1.80     31.90   \n",
       "5                           ... 342172 1.3300 1.3300     0.95      1.84   \n",
       "6                           ... 342172 1.0900 1.0900     0.92      1.30   \n",
       "  article_id                   cancer_type               cancer_group\n",
       "1 Di et al. Lucca, 2010        Melanoma                  SKIN        \n",
       "2 Brewster et al., 2010        Melanoma                  SKIN        \n",
       "3 Brewster et al., 2010        Basal Cell Carcinoma      SKIN        \n",
       "4 Cnattingius et al., 1995     Myeloid Leukemia          BLOOD       \n",
       "5 Bugaiski et al.-Shaked, 2022 Total Malignant Morbidity SOLID ORGAN \n",
       "6 Bugaiski et al.-Shaked, 2022 Total Bengin Tumors       SOLID ORGAN \n",
       "  exclude_from_overall_plot Article_Code\n",
       "1                           D10         \n",
       "2                           B10         \n",
       "3                           B10         \n",
       "4                           C95         \n",
       "5                           B22         \n",
       "6                           B22         "
      ]
     },
     "metadata": {},
     "output_type": "display_data"
    }
   ],
   "source": [
    "# rename or to odds_ratio\n",
    "data$odds_ratio <- data$OR\n",
    "\n",
    "# rename X95_CI_lower to lower_ci\n",
    "data$lower_ci <- data$X95_CI_lower\n",
    "\n",
    "# rename X95_CI_upper to upper_ci\n",
    "data$upper_ci <- data$X95_CI_upper\n",
    "\n",
    "# rename X...Article_ID to article_id\n",
    "data$article_id <- data$Article_ID\n",
    "\n",
    "# rename Cancer.Type to cancer_type\n",
    "data$cancer_type <- data$Cancer.Type\n",
    "\n",
    "# rename CANCER.GROUP tp cancer_group\n",
    "data$cancer_group <- data$CANCER.GROUP\n",
    "\n",
    "# rename Exclude.From.Overall.Plot to exclude_from_overall_plot\n",
    "data$exclude_from_overall_plot <- data$Exclude.From.Overall.Plot\n",
    "\n",
    "# First char and last two chars of Article_ID\n",
    "data$Article_Code <- paste(substr(data$Article_ID, 1, 1), substr(data$Article_ID, nchar(data$Article_ID)-1, nchar(data$Article_ID)), sep=\"\")\n",
    "\n",
    "# show the first few rows\n",
    "head(data)"
   ]
  },
  {
   "cell_type": "code",
   "execution_count": 5,
   "metadata": {
    "vscode": {
     "languageId": "r"
    }
   },
   "outputs": [],
   "source": [
    "# save data into a new csv\n",
    "write.csv(data, \"processed-data.csv\")"
   ]
  }
 ],
 "metadata": {
  "kernelspec": {
   "display_name": "R",
   "language": "R",
   "name": "ir"
  },
  "language_info": {
   "codemirror_mode": "r",
   "file_extension": ".r",
   "mimetype": "text/x-r-source",
   "name": "R",
   "pygments_lexer": "r",
   "version": "4.2.2"
  },
  "orig_nbformat": 4
 },
 "nbformat": 4,
 "nbformat_minor": 2
}
