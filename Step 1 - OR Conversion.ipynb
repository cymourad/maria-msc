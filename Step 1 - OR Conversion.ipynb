{
 "cells": [
  {
   "attachments": {},
   "cell_type": "markdown",
   "metadata": {},
   "source": [
    "# Overview:\n",
    " - we processed the data to have the same measure for all studies \n",
    " - we chose OR as the common measure for all studies\n",
    " - we also chose to use the 95% CI for all studies\n",
    "\n",
    "# Steps:\n",
    "1. read data\n",
    "2. cleaned up file to keep only the numbers\n",
    "   * removed all the special formatting\n",
    "   * changed column names to simplify\n",
    "3. converted all the measures to OR\n",
    "   * cut the ORs to be only between `0` and `10` because in log OR we can not have anything less than 0 \n",
    "   * aka: if there were any numbers less than `0.1`, they were given the value `0.1`\n",
    "   * aka: if there were any numbers greater than `10`, they were given the value `10`\n",
    "   This is because the `Crude IRR` conversion could result in infinity\n",
    "   (when dividing by 0, will give a result of infinity-- not useful for us)\n",
    "      ```R\n",
    "      if (measure_name == \"Crude IRR\"){\n",
    "         OR <- measure / (1 - measure)\n",
    "      }\n",
    "      ```"
   ]
  },
  {
   "cell_type": "code",
   "execution_count": 6,
   "metadata": {
    "vscode": {
     "languageId": "r"
    }
   },
   "outputs": [],
   "source": [
    "# Function to convert measures to OR\n",
    "convert_to_or <- function(row){\n",
    "\n",
    "  measure_name <- row[['Measure_Name']]\n",
    "  measure <- as.numeric(row[['Measure_Value']])\n",
    "  n1 <- as.numeric(row[['N1_Cancer']])\n",
    "  n2 <- as.numeric(row[['N2_No_Cancer']])\n",
    "\n",
    "  if (measure_name == \"OR\"){\n",
    "    OR <- measure\n",
    "  } else if (measure_name == \"Crude OR\") {\n",
    "    OR <- measure\n",
    "  } else if (measure_name == \"Adjusted OR\") {\n",
    "    OR <- measure\n",
    "  } else if (measure_name == \"RD\"){\n",
    "    OR <- exp(measure)\n",
    "  } else if (measure_name == \"SIR\"){\n",
    "    # TODO: two SIR values are 0, please fix the upstream data\n",
    "    OR <- measure\n",
    "  } else if (measure_name == \"RR\"){\n",
    "    OR <- measure\n",
    "  } else if (measure_name == \"HR\"){\n",
    "    OR <- measure\n",
    "  } else if (measure_name == \"Crude IRR\"){\n",
    "    # TODO: this is prob wrong, all output values hit min limit of 0.1\n",
    "    OR <- measure / (1 - measure)\n",
    "  } else if (measure_name == \"IR\"){\n",
    "    # TODO: this is prob wrong, all output values hit min limit of 0.1\n",
    "    OR <- (n1 / n2) / (1 - (n1 / n2))\n",
    "  }\n",
    "  # print(OR)\n",
    "  if (OR < 0.1) {\n",
    "    OR <- 0.1\n",
    "  } else if (OR > 10) {\n",
    "    OR <- 10\n",
    "  }\n",
    "  return(OR)\n",
    "}"
   ]
  },
  {
   "cell_type": "code",
   "execution_count": 7,
   "metadata": {
    "vscode": {
     "languageId": "r"
    }
   },
   "outputs": [
    {
     "data": {
      "text/html": [
       "<table class=\"dataframe\">\n",
       "<caption>A data.frame: 6 x 10</caption>\n",
       "<thead>\n",
       "\t<tr><th></th><th scope=col>Article_ID</th><th scope=col>Total_Cohort</th><th scope=col>Measure_Name</th><th scope=col>Measure_Value</th><th scope=col>X95_CI_lower</th><th scope=col>X95_CI_upper</th><th scope=col>N1_Cancer</th><th scope=col>N2_No_Cancer</th><th scope=col>Cancer.Type</th><th scope=col>n</th></tr>\n",
       "\t<tr><th></th><th scope=col>&lt;chr&gt;</th><th scope=col>&lt;chr&gt;</th><th scope=col>&lt;chr&gt;</th><th scope=col>&lt;dbl&gt;</th><th scope=col>&lt;dbl&gt;</th><th scope=col>&lt;dbl&gt;</th><th scope=col>&lt;dbl&gt;</th><th scope=col>&lt;dbl&gt;</th><th scope=col>&lt;chr&gt;</th><th scope=col>&lt;dbl&gt;</th></tr>\n",
       "</thead>\n",
       "<tbody>\n",
       "\t<tr><th scope=row>1</th><td>Di Luccia, 2010      </td><td>1,216  </td><td>OR </td><td>3.04</td><td>1.22</td><td> 7.57</td><td>0</td><td>0</td><td>Melanoma                 </td><td>  1216</td></tr>\n",
       "\t<tr><th scope=row>2</th><td>Brewster, 2010       </td><td>77,518 </td><td>SIR</td><td>1.40</td><td>0.17</td><td> 5.04</td><td>0</td><td>0</td><td>Melanoma                 </td><td> 77518</td></tr>\n",
       "\t<tr><th scope=row>3</th><td>Brewster, 2010       </td><td>77,518 </td><td>SIR</td><td>0.00</td><td>0.00</td><td> 3.11</td><td>0</td><td>0</td><td>Basal Cell Carcinoma     </td><td> 77518</td></tr>\n",
       "\t<tr><th scope=row>4</th><td>Cnattingius, 1995    </td><td>89     </td><td>OR </td><td>7.50</td><td>1.80</td><td>31.90</td><td>0</td><td>0</td><td>Myeloid Leukemia         </td><td>    89</td></tr>\n",
       "\t<tr><th scope=row>5</th><td>Bugaiaki-Shaked, 2022</td><td>342,172</td><td>HR </td><td>1.33</td><td>0.95</td><td> 1.84</td><td>0</td><td>0</td><td>Total Malignant Morbidity</td><td>342172</td></tr>\n",
       "\t<tr><th scope=row>6</th><td>Bugaiaki-Shaked, 2022</td><td>342,172</td><td>HR </td><td>1.09</td><td>0.92</td><td> 1.30</td><td>0</td><td>0</td><td>Total Bengin Tumors      </td><td>342172</td></tr>\n",
       "</tbody>\n",
       "</table>\n"
      ],
      "text/latex": [
       "A data.frame: 6 x 10\n",
       "\\begin{tabular}{r|llllllllll}\n",
       "  & Article\\_ID & Total\\_Cohort & Measure\\_Name & Measure\\_Value & X95\\_CI\\_lower & X95\\_CI\\_upper & N1\\_Cancer & N2\\_No\\_Cancer & Cancer.Type & n\\\\\n",
       "  & <chr> & <chr> & <chr> & <dbl> & <dbl> & <dbl> & <dbl> & <dbl> & <chr> & <dbl>\\\\\n",
       "\\hline\n",
       "\t1 & Di Luccia, 2010       & 1,216   & OR  & 3.04 & 1.22 &  7.57 & 0 & 0 & Melanoma                  &   1216\\\\\n",
       "\t2 & Brewster, 2010        & 77,518  & SIR & 1.40 & 0.17 &  5.04 & 0 & 0 & Melanoma                  &  77518\\\\\n",
       "\t3 & Brewster, 2010        & 77,518  & SIR & 0.00 & 0.00 &  3.11 & 0 & 0 & Basal Cell Carcinoma      &  77518\\\\\n",
       "\t4 & Cnattingius, 1995     & 89      & OR  & 7.50 & 1.80 & 31.90 & 0 & 0 & Myeloid Leukemia          &     89\\\\\n",
       "\t5 & Bugaiaki-Shaked, 2022 & 342,172 & HR  & 1.33 & 0.95 &  1.84 & 0 & 0 & Total Malignant Morbidity & 342172\\\\\n",
       "\t6 & Bugaiaki-Shaked, 2022 & 342,172 & HR  & 1.09 & 0.92 &  1.30 & 0 & 0 & Total Bengin Tumors       & 342172\\\\\n",
       "\\end{tabular}\n"
      ],
      "text/markdown": [
       "\n",
       "A data.frame: 6 x 10\n",
       "\n",
       "| <!--/--> | Article_ID &lt;chr&gt; | Total_Cohort &lt;chr&gt; | Measure_Name &lt;chr&gt; | Measure_Value &lt;dbl&gt; | X95_CI_lower &lt;dbl&gt; | X95_CI_upper &lt;dbl&gt; | N1_Cancer &lt;dbl&gt; | N2_No_Cancer &lt;dbl&gt; | Cancer.Type &lt;chr&gt; | n &lt;dbl&gt; |\n",
       "|---|---|---|---|---|---|---|---|---|---|---|\n",
       "| 1 | Di Luccia, 2010       | 1,216   | OR  | 3.04 | 1.22 |  7.57 | 0 | 0 | Melanoma                  |   1216 |\n",
       "| 2 | Brewster, 2010        | 77,518  | SIR | 1.40 | 0.17 |  5.04 | 0 | 0 | Melanoma                  |  77518 |\n",
       "| 3 | Brewster, 2010        | 77,518  | SIR | 0.00 | 0.00 |  3.11 | 0 | 0 | Basal Cell Carcinoma      |  77518 |\n",
       "| 4 | Cnattingius, 1995     | 89      | OR  | 7.50 | 1.80 | 31.90 | 0 | 0 | Myeloid Leukemia          |     89 |\n",
       "| 5 | Bugaiaki-Shaked, 2022 | 342,172 | HR  | 1.33 | 0.95 |  1.84 | 0 | 0 | Total Malignant Morbidity | 342172 |\n",
       "| 6 | Bugaiaki-Shaked, 2022 | 342,172 | HR  | 1.09 | 0.92 |  1.30 | 0 | 0 | Total Bengin Tumors       | 342172 |\n",
       "\n"
      ],
      "text/plain": [
       "  Article_ID            Total_Cohort Measure_Name Measure_Value X95_CI_lower\n",
       "1 Di Luccia, 2010       1,216        OR           3.04          1.22        \n",
       "2 Brewster, 2010        77,518       SIR          1.40          0.17        \n",
       "3 Brewster, 2010        77,518       SIR          0.00          0.00        \n",
       "4 Cnattingius, 1995     89           OR           7.50          1.80        \n",
       "5 Bugaiaki-Shaked, 2022 342,172      HR           1.33          0.95        \n",
       "6 Bugaiaki-Shaked, 2022 342,172      HR           1.09          0.92        \n",
       "  X95_CI_upper N1_Cancer N2_No_Cancer Cancer.Type               n     \n",
       "1  7.57        0         0            Melanoma                    1216\n",
       "2  5.04        0         0            Melanoma                   77518\n",
       "3  3.11        0         0            Basal Cell Carcinoma       77518\n",
       "4 31.90        0         0            Myeloid Leukemia              89\n",
       "5  1.84        0         0            Total Malignant Morbidity 342172\n",
       "6  1.30        0         0            Total Bengin Tumors       342172"
      ]
     },
     "metadata": {},
     "output_type": "display_data"
    }
   ],
   "source": [
    "# read data in\n",
    "data <- read.csv(\"meta-analysis-data.csv\")\n",
    "\n",
    "# remove commas from Total_Cohort and parse as numeric\n",
    "data$n <- as.numeric(gsub(\",\", \"\",data$Total_Cohort))\n",
    "\n",
    "# convert Measure_Value to numeric\n",
    "data$Measure_Value <- as.numeric(data$Measure_Value)\n",
    "\n",
    "# parse N1_Cancer as numeric or fill with 0\n",
    "data$N1_Cancer <- as.numeric(data$N1_Cancer)\n",
    "data$N1_Cancer[is.na(data$N1_Cancer)] <- 0\n",
    "\n",
    "# parse N2_No_Cancer as numeric or fill with 0\n",
    "data$N2_No_Cancer <- as.numeric(data$N2_No_Cancer)\n",
    "data$N2_No_Cancer[is.na(data$N2_No_Cancer)] <- 0\n",
    "\n",
    "# delete rows with no confidence interval\n",
    "data <- data[!is.na(data$X95_CI_lower),]\n",
    "data <- data[!is.na(data$X95_CI_upper),]\n",
    "\n",
    "# show the first few rows\n",
    "head(data)"
   ]
  },
  {
   "cell_type": "code",
   "execution_count": 8,
   "metadata": {
    "vscode": {
     "languageId": "r"
    }
   },
   "outputs": [
    {
     "data": {
      "text/html": [
       "<table class=\"dataframe\">\n",
       "<caption>A data.frame: 6 x 11</caption>\n",
       "<thead>\n",
       "\t<tr><th></th><th scope=col>Article_ID</th><th scope=col>Total_Cohort</th><th scope=col>Measure_Name</th><th scope=col>Measure_Value</th><th scope=col>X95_CI_lower</th><th scope=col>X95_CI_upper</th><th scope=col>N1_Cancer</th><th scope=col>N2_No_Cancer</th><th scope=col>Cancer.Type</th><th scope=col>n</th><th scope=col>OR</th></tr>\n",
       "\t<tr><th></th><th scope=col>&lt;chr&gt;</th><th scope=col>&lt;chr&gt;</th><th scope=col>&lt;chr&gt;</th><th scope=col>&lt;dbl&gt;</th><th scope=col>&lt;dbl&gt;</th><th scope=col>&lt;dbl&gt;</th><th scope=col>&lt;dbl&gt;</th><th scope=col>&lt;dbl&gt;</th><th scope=col>&lt;chr&gt;</th><th scope=col>&lt;dbl&gt;</th><th scope=col>&lt;dbl&gt;</th></tr>\n",
       "</thead>\n",
       "<tbody>\n",
       "\t<tr><th scope=row>1</th><td>Di Luccia, 2010      </td><td>1,216  </td><td>OR </td><td>3.04</td><td>1.22</td><td> 7.57</td><td>0</td><td>0</td><td>Melanoma                 </td><td>  1216</td><td>3.04</td></tr>\n",
       "\t<tr><th scope=row>2</th><td>Brewster, 2010       </td><td>77,518 </td><td>SIR</td><td>1.40</td><td>0.17</td><td> 5.04</td><td>0</td><td>0</td><td>Melanoma                 </td><td> 77518</td><td>1.40</td></tr>\n",
       "\t<tr><th scope=row>3</th><td>Brewster, 2010       </td><td>77,518 </td><td>SIR</td><td>0.00</td><td>0.00</td><td> 3.11</td><td>0</td><td>0</td><td>Basal Cell Carcinoma     </td><td> 77518</td><td>0.10</td></tr>\n",
       "\t<tr><th scope=row>4</th><td>Cnattingius, 1995    </td><td>89     </td><td>OR </td><td>7.50</td><td>1.80</td><td>31.90</td><td>0</td><td>0</td><td>Myeloid Leukemia         </td><td>    89</td><td>7.50</td></tr>\n",
       "\t<tr><th scope=row>5</th><td>Bugaiaki-Shaked, 2022</td><td>342,172</td><td>HR </td><td>1.33</td><td>0.95</td><td> 1.84</td><td>0</td><td>0</td><td>Total Malignant Morbidity</td><td>342172</td><td>1.33</td></tr>\n",
       "\t<tr><th scope=row>6</th><td>Bugaiaki-Shaked, 2022</td><td>342,172</td><td>HR </td><td>1.09</td><td>0.92</td><td> 1.30</td><td>0</td><td>0</td><td>Total Bengin Tumors      </td><td>342172</td><td>1.09</td></tr>\n",
       "</tbody>\n",
       "</table>\n"
      ],
      "text/latex": [
       "A data.frame: 6 x 11\n",
       "\\begin{tabular}{r|lllllllllll}\n",
       "  & Article\\_ID & Total\\_Cohort & Measure\\_Name & Measure\\_Value & X95\\_CI\\_lower & X95\\_CI\\_upper & N1\\_Cancer & N2\\_No\\_Cancer & Cancer.Type & n & OR\\\\\n",
       "  & <chr> & <chr> & <chr> & <dbl> & <dbl> & <dbl> & <dbl> & <dbl> & <chr> & <dbl> & <dbl>\\\\\n",
       "\\hline\n",
       "\t1 & Di Luccia, 2010       & 1,216   & OR  & 3.04 & 1.22 &  7.57 & 0 & 0 & Melanoma                  &   1216 & 3.04\\\\\n",
       "\t2 & Brewster, 2010        & 77,518  & SIR & 1.40 & 0.17 &  5.04 & 0 & 0 & Melanoma                  &  77518 & 1.40\\\\\n",
       "\t3 & Brewster, 2010        & 77,518  & SIR & 0.00 & 0.00 &  3.11 & 0 & 0 & Basal Cell Carcinoma      &  77518 & 0.10\\\\\n",
       "\t4 & Cnattingius, 1995     & 89      & OR  & 7.50 & 1.80 & 31.90 & 0 & 0 & Myeloid Leukemia          &     89 & 7.50\\\\\n",
       "\t5 & Bugaiaki-Shaked, 2022 & 342,172 & HR  & 1.33 & 0.95 &  1.84 & 0 & 0 & Total Malignant Morbidity & 342172 & 1.33\\\\\n",
       "\t6 & Bugaiaki-Shaked, 2022 & 342,172 & HR  & 1.09 & 0.92 &  1.30 & 0 & 0 & Total Bengin Tumors       & 342172 & 1.09\\\\\n",
       "\\end{tabular}\n"
      ],
      "text/markdown": [
       "\n",
       "A data.frame: 6 x 11\n",
       "\n",
       "| <!--/--> | Article_ID &lt;chr&gt; | Total_Cohort &lt;chr&gt; | Measure_Name &lt;chr&gt; | Measure_Value &lt;dbl&gt; | X95_CI_lower &lt;dbl&gt; | X95_CI_upper &lt;dbl&gt; | N1_Cancer &lt;dbl&gt; | N2_No_Cancer &lt;dbl&gt; | Cancer.Type &lt;chr&gt; | n &lt;dbl&gt; | OR &lt;dbl&gt; |\n",
       "|---|---|---|---|---|---|---|---|---|---|---|---|\n",
       "| 1 | Di Luccia, 2010       | 1,216   | OR  | 3.04 | 1.22 |  7.57 | 0 | 0 | Melanoma                  |   1216 | 3.04 |\n",
       "| 2 | Brewster, 2010        | 77,518  | SIR | 1.40 | 0.17 |  5.04 | 0 | 0 | Melanoma                  |  77518 | 1.40 |\n",
       "| 3 | Brewster, 2010        | 77,518  | SIR | 0.00 | 0.00 |  3.11 | 0 | 0 | Basal Cell Carcinoma      |  77518 | 0.10 |\n",
       "| 4 | Cnattingius, 1995     | 89      | OR  | 7.50 | 1.80 | 31.90 | 0 | 0 | Myeloid Leukemia          |     89 | 7.50 |\n",
       "| 5 | Bugaiaki-Shaked, 2022 | 342,172 | HR  | 1.33 | 0.95 |  1.84 | 0 | 0 | Total Malignant Morbidity | 342172 | 1.33 |\n",
       "| 6 | Bugaiaki-Shaked, 2022 | 342,172 | HR  | 1.09 | 0.92 |  1.30 | 0 | 0 | Total Bengin Tumors       | 342172 | 1.09 |\n",
       "\n"
      ],
      "text/plain": [
       "  Article_ID            Total_Cohort Measure_Name Measure_Value X95_CI_lower\n",
       "1 Di Luccia, 2010       1,216        OR           3.04          1.22        \n",
       "2 Brewster, 2010        77,518       SIR          1.40          0.17        \n",
       "3 Brewster, 2010        77,518       SIR          0.00          0.00        \n",
       "4 Cnattingius, 1995     89           OR           7.50          1.80        \n",
       "5 Bugaiaki-Shaked, 2022 342,172      HR           1.33          0.95        \n",
       "6 Bugaiaki-Shaked, 2022 342,172      HR           1.09          0.92        \n",
       "  X95_CI_upper N1_Cancer N2_No_Cancer Cancer.Type               n      OR  \n",
       "1  7.57        0         0            Melanoma                    1216 3.04\n",
       "2  5.04        0         0            Melanoma                   77518 1.40\n",
       "3  3.11        0         0            Basal Cell Carcinoma       77518 0.10\n",
       "4 31.90        0         0            Myeloid Leukemia              89 7.50\n",
       "5  1.84        0         0            Total Malignant Morbidity 342172 1.33\n",
       "6  1.30        0         0            Total Bengin Tumors       342172 1.09"
      ]
     },
     "metadata": {},
     "output_type": "display_data"
    }
   ],
   "source": [
    "# convert to OR\n",
    "data$OR <- apply(data, 1, convert_to_or)\n",
    "\n",
    "# show the first few rows\n",
    "head(data)"
   ]
  },
  {
   "cell_type": "code",
   "execution_count": 9,
   "metadata": {
    "vscode": {
     "languageId": "r"
    }
   },
   "outputs": [
    {
     "data": {
      "text/html": [
       "<table class=\"dataframe\">\n",
       "<caption>A data.frame: 6 x 17</caption>\n",
       "<thead>\n",
       "\t<tr><th></th><th scope=col>Article_ID</th><th scope=col>Total_Cohort</th><th scope=col>Measure_Name</th><th scope=col>Measure_Value</th><th scope=col>X95_CI_lower</th><th scope=col>X95_CI_upper</th><th scope=col>N1_Cancer</th><th scope=col>N2_No_Cancer</th><th scope=col>Cancer.Type</th><th scope=col>n</th><th scope=col>OR</th><th scope=col>study_id</th><th scope=col>odds_ratio</th><th scope=col>lower_ci</th><th scope=col>upper_ci</th><th scope=col>article_id</th><th scope=col>cancer_type</th></tr>\n",
       "\t<tr><th></th><th scope=col>&lt;chr&gt;</th><th scope=col>&lt;chr&gt;</th><th scope=col>&lt;chr&gt;</th><th scope=col>&lt;dbl&gt;</th><th scope=col>&lt;dbl&gt;</th><th scope=col>&lt;dbl&gt;</th><th scope=col>&lt;dbl&gt;</th><th scope=col>&lt;dbl&gt;</th><th scope=col>&lt;chr&gt;</th><th scope=col>&lt;dbl&gt;</th><th scope=col>&lt;dbl&gt;</th><th scope=col>&lt;chr&gt;</th><th scope=col>&lt;dbl&gt;</th><th scope=col>&lt;dbl&gt;</th><th scope=col>&lt;dbl&gt;</th><th scope=col>&lt;chr&gt;</th><th scope=col>&lt;chr&gt;</th></tr>\n",
       "</thead>\n",
       "<tbody>\n",
       "\t<tr><th scope=row>1</th><td>Di Luccia, 2010      </td><td>1,216  </td><td>OR </td><td>3.04</td><td>1.22</td><td> 7.57</td><td>0</td><td>0</td><td>Melanoma                 </td><td>  1216</td><td>3.04</td><td>Di Luccia, 2010      </td><td>3.04</td><td>1.22</td><td> 7.57</td><td>Di Luccia, 2010      </td><td>Melanoma                 </td></tr>\n",
       "\t<tr><th scope=row>2</th><td>Brewster, 2010       </td><td>77,518 </td><td>SIR</td><td>1.40</td><td>0.17</td><td> 5.04</td><td>0</td><td>0</td><td>Melanoma                 </td><td> 77518</td><td>1.40</td><td>Brewster, 2010       </td><td>1.40</td><td>0.17</td><td> 5.04</td><td>Brewster, 2010       </td><td>Melanoma                 </td></tr>\n",
       "\t<tr><th scope=row>3</th><td>Brewster, 2010       </td><td>77,518 </td><td>SIR</td><td>0.00</td><td>0.00</td><td> 3.11</td><td>0</td><td>0</td><td>Basal Cell Carcinoma     </td><td> 77518</td><td>0.10</td><td>Brewster, 2010       </td><td>0.10</td><td>0.00</td><td> 3.11</td><td>Brewster, 2010       </td><td>Basal Cell Carcinoma     </td></tr>\n",
       "\t<tr><th scope=row>4</th><td>Cnattingius, 1995    </td><td>89     </td><td>OR </td><td>7.50</td><td>1.80</td><td>31.90</td><td>0</td><td>0</td><td>Myeloid Leukemia         </td><td>    89</td><td>7.50</td><td>Cnattingius, 1995    </td><td>7.50</td><td>1.80</td><td>31.90</td><td>Cnattingius, 1995    </td><td>Myeloid Leukemia         </td></tr>\n",
       "\t<tr><th scope=row>5</th><td>Bugaiaki-Shaked, 2022</td><td>342,172</td><td>HR </td><td>1.33</td><td>0.95</td><td> 1.84</td><td>0</td><td>0</td><td>Total Malignant Morbidity</td><td>342172</td><td>1.33</td><td>Bugaiaki-Shaked, 2022</td><td>1.33</td><td>0.95</td><td> 1.84</td><td>Bugaiaki-Shaked, 2022</td><td>Total Malignant Morbidity</td></tr>\n",
       "\t<tr><th scope=row>6</th><td>Bugaiaki-Shaked, 2022</td><td>342,172</td><td>HR </td><td>1.09</td><td>0.92</td><td> 1.30</td><td>0</td><td>0</td><td>Total Bengin Tumors      </td><td>342172</td><td>1.09</td><td>Bugaiaki-Shaked, 2022</td><td>1.09</td><td>0.92</td><td> 1.30</td><td>Bugaiaki-Shaked, 2022</td><td>Total Bengin Tumors      </td></tr>\n",
       "</tbody>\n",
       "</table>\n"
      ],
      "text/latex": [
       "A data.frame: 6 x 17\n",
       "\\begin{tabular}{r|lllllllllllllllll}\n",
       "  & Article\\_ID & Total\\_Cohort & Measure\\_Name & Measure\\_Value & X95\\_CI\\_lower & X95\\_CI\\_upper & N1\\_Cancer & N2\\_No\\_Cancer & Cancer.Type & n & OR & study\\_id & odds\\_ratio & lower\\_ci & upper\\_ci & article\\_id & cancer\\_type\\\\\n",
       "  & <chr> & <chr> & <chr> & <dbl> & <dbl> & <dbl> & <dbl> & <dbl> & <chr> & <dbl> & <dbl> & <chr> & <dbl> & <dbl> & <dbl> & <chr> & <chr>\\\\\n",
       "\\hline\n",
       "\t1 & Di Luccia, 2010       & 1,216   & OR  & 3.04 & 1.22 &  7.57 & 0 & 0 & Melanoma                  &   1216 & 3.04 & Di Luccia, 2010       & 3.04 & 1.22 &  7.57 & Di Luccia, 2010       & Melanoma                 \\\\\n",
       "\t2 & Brewster, 2010        & 77,518  & SIR & 1.40 & 0.17 &  5.04 & 0 & 0 & Melanoma                  &  77518 & 1.40 & Brewster, 2010        & 1.40 & 0.17 &  5.04 & Brewster, 2010        & Melanoma                 \\\\\n",
       "\t3 & Brewster, 2010        & 77,518  & SIR & 0.00 & 0.00 &  3.11 & 0 & 0 & Basal Cell Carcinoma      &  77518 & 0.10 & Brewster, 2010        & 0.10 & 0.00 &  3.11 & Brewster, 2010        & Basal Cell Carcinoma     \\\\\n",
       "\t4 & Cnattingius, 1995     & 89      & OR  & 7.50 & 1.80 & 31.90 & 0 & 0 & Myeloid Leukemia          &     89 & 7.50 & Cnattingius, 1995     & 7.50 & 1.80 & 31.90 & Cnattingius, 1995     & Myeloid Leukemia         \\\\\n",
       "\t5 & Bugaiaki-Shaked, 2022 & 342,172 & HR  & 1.33 & 0.95 &  1.84 & 0 & 0 & Total Malignant Morbidity & 342172 & 1.33 & Bugaiaki-Shaked, 2022 & 1.33 & 0.95 &  1.84 & Bugaiaki-Shaked, 2022 & Total Malignant Morbidity\\\\\n",
       "\t6 & Bugaiaki-Shaked, 2022 & 342,172 & HR  & 1.09 & 0.92 &  1.30 & 0 & 0 & Total Bengin Tumors       & 342172 & 1.09 & Bugaiaki-Shaked, 2022 & 1.09 & 0.92 &  1.30 & Bugaiaki-Shaked, 2022 & Total Bengin Tumors      \\\\\n",
       "\\end{tabular}\n"
      ],
      "text/markdown": [
       "\n",
       "A data.frame: 6 x 17\n",
       "\n",
       "| <!--/--> | Article_ID &lt;chr&gt; | Total_Cohort &lt;chr&gt; | Measure_Name &lt;chr&gt; | Measure_Value &lt;dbl&gt; | X95_CI_lower &lt;dbl&gt; | X95_CI_upper &lt;dbl&gt; | N1_Cancer &lt;dbl&gt; | N2_No_Cancer &lt;dbl&gt; | Cancer.Type &lt;chr&gt; | n &lt;dbl&gt; | OR &lt;dbl&gt; | study_id &lt;chr&gt; | odds_ratio &lt;dbl&gt; | lower_ci &lt;dbl&gt; | upper_ci &lt;dbl&gt; | article_id &lt;chr&gt; | cancer_type &lt;chr&gt; |\n",
       "|---|---|---|---|---|---|---|---|---|---|---|---|---|---|---|---|---|---|\n",
       "| 1 | Di Luccia, 2010       | 1,216   | OR  | 3.04 | 1.22 |  7.57 | 0 | 0 | Melanoma                  |   1216 | 3.04 | Di Luccia, 2010       | 3.04 | 1.22 |  7.57 | Di Luccia, 2010       | Melanoma                  |\n",
       "| 2 | Brewster, 2010        | 77,518  | SIR | 1.40 | 0.17 |  5.04 | 0 | 0 | Melanoma                  |  77518 | 1.40 | Brewster, 2010        | 1.40 | 0.17 |  5.04 | Brewster, 2010        | Melanoma                  |\n",
       "| 3 | Brewster, 2010        | 77,518  | SIR | 0.00 | 0.00 |  3.11 | 0 | 0 | Basal Cell Carcinoma      |  77518 | 0.10 | Brewster, 2010        | 0.10 | 0.00 |  3.11 | Brewster, 2010        | Basal Cell Carcinoma      |\n",
       "| 4 | Cnattingius, 1995     | 89      | OR  | 7.50 | 1.80 | 31.90 | 0 | 0 | Myeloid Leukemia          |     89 | 7.50 | Cnattingius, 1995     | 7.50 | 1.80 | 31.90 | Cnattingius, 1995     | Myeloid Leukemia          |\n",
       "| 5 | Bugaiaki-Shaked, 2022 | 342,172 | HR  | 1.33 | 0.95 |  1.84 | 0 | 0 | Total Malignant Morbidity | 342172 | 1.33 | Bugaiaki-Shaked, 2022 | 1.33 | 0.95 |  1.84 | Bugaiaki-Shaked, 2022 | Total Malignant Morbidity |\n",
       "| 6 | Bugaiaki-Shaked, 2022 | 342,172 | HR  | 1.09 | 0.92 |  1.30 | 0 | 0 | Total Bengin Tumors       | 342172 | 1.09 | Bugaiaki-Shaked, 2022 | 1.09 | 0.92 |  1.30 | Bugaiaki-Shaked, 2022 | Total Bengin Tumors       |\n",
       "\n"
      ],
      "text/plain": [
       "  Article_ID            Total_Cohort Measure_Name Measure_Value X95_CI_lower\n",
       "1 Di Luccia, 2010       1,216        OR           3.04          1.22        \n",
       "2 Brewster, 2010        77,518       SIR          1.40          0.17        \n",
       "3 Brewster, 2010        77,518       SIR          0.00          0.00        \n",
       "4 Cnattingius, 1995     89           OR           7.50          1.80        \n",
       "5 Bugaiaki-Shaked, 2022 342,172      HR           1.33          0.95        \n",
       "6 Bugaiaki-Shaked, 2022 342,172      HR           1.09          0.92        \n",
       "  X95_CI_upper N1_Cancer N2_No_Cancer Cancer.Type               n      OR  \n",
       "1  7.57        0         0            Melanoma                    1216 3.04\n",
       "2  5.04        0         0            Melanoma                   77518 1.40\n",
       "3  3.11        0         0            Basal Cell Carcinoma       77518 0.10\n",
       "4 31.90        0         0            Myeloid Leukemia              89 7.50\n",
       "5  1.84        0         0            Total Malignant Morbidity 342172 1.33\n",
       "6  1.30        0         0            Total Bengin Tumors       342172 1.09\n",
       "  study_id              odds_ratio lower_ci upper_ci article_id           \n",
       "1 Di Luccia, 2010       3.04       1.22      7.57    Di Luccia, 2010      \n",
       "2 Brewster, 2010        1.40       0.17      5.04    Brewster, 2010       \n",
       "3 Brewster, 2010        0.10       0.00      3.11    Brewster, 2010       \n",
       "4 Cnattingius, 1995     7.50       1.80     31.90    Cnattingius, 1995    \n",
       "5 Bugaiaki-Shaked, 2022 1.33       0.95      1.84    Bugaiaki-Shaked, 2022\n",
       "6 Bugaiaki-Shaked, 2022 1.09       0.92      1.30    Bugaiaki-Shaked, 2022\n",
       "  cancer_type              \n",
       "1 Melanoma                 \n",
       "2 Melanoma                 \n",
       "3 Basal Cell Carcinoma     \n",
       "4 Myeloid Leukemia         \n",
       "5 Total Malignant Morbidity\n",
       "6 Total Bengin Tumors      "
      ]
     },
     "metadata": {},
     "output_type": "display_data"
    }
   ],
   "source": [
    "# rename article_id to study_id\n",
    "data$study_id <- data$Article_ID\n",
    "\n",
    "# rename or to odds_ratio\n",
    "data$odds_ratio <- data$OR\n",
    "\n",
    "# rename X95_CI_lower to lower_ci\n",
    "data$lower_ci <- data$X95_CI_lower\n",
    "\n",
    "# rename X95_CI_upper to upper_ci\n",
    "data$upper_ci <- data$X95_CI_upper\n",
    "\n",
    "# rename X...Article_ID to article_id\n",
    "data$article_id <- data$Article_ID\n",
    "\n",
    "# rename Cancer.Type to cancer_type\n",
    "data$cancer_type <- data$Cancer.Type\n",
    "\n",
    "# show the first few rows\n",
    "head(data)"
   ]
  },
  {
   "cell_type": "code",
   "execution_count": 10,
   "metadata": {
    "vscode": {
     "languageId": "r"
    }
   },
   "outputs": [],
   "source": [
    "# save data into a new csv\n",
    "write.csv(data, \"processed-data.csv\")"
   ]
  }
 ],
 "metadata": {
  "kernelspec": {
   "display_name": "R",
   "language": "R",
   "name": "ir"
  },
  "language_info": {
   "codemirror_mode": "r",
   "file_extension": ".r",
   "mimetype": "text/x-r-source",
   "name": "R",
   "pygments_lexer": "r",
   "version": "4.2.2"
  },
  "orig_nbformat": 4
 },
 "nbformat": 4,
 "nbformat_minor": 2
}
